{
 "cells": [
  {
   "cell_type": "code",
   "execution_count": 33,
   "metadata": {},
   "outputs": [
    {
     "name": "stdout",
     "output_type": "stream",
     "text": [
      "9\n"
     ]
    }
   ],
   "source": [
    "import pandas as pd\n",
    "bike_data = pd.read_csv('data/citibike-tripdata.csv', sep=',')\n",
    "# bike_df = bike_data.copy()\n",
    "# print(bike_df.info())\n",
    "\n",
    "# bike_df['start station id'].value_counts()\n",
    "# bike_df['start station id'].nunique() > bike_df['end station id'].nunique() \n",
    "# bike_df.describe(include=['object'])\n",
    "\n",
    "# bike_df = bike_df.drop(['start station id', 'end station id'], axis=1)\n",
    "# print(bike_df.info())\n",
    "\n",
    "# bike_df['age'] = 2018 - bike_df['birth year']\n",
    "# bike_df.drop(['birth year'], axis=1, inplace=True)\n",
    "# print(bike_df[bike_df['age'] > 60].shape[0])\n",
    "\n",
    "\n",
    "# bike_df['starttime'] = pd.to_datetime(bike_df['starttime'])\n",
    "# bike_df['stoptime'] = pd.to_datetime(bike_df['stoptime'])\n",
    "# bike_df['trip duration'] = (bike_df['stoptime'] - bike_df['starttime'])\n",
    "# bike_df.loc[3, 'trip duration']\n",
    "\n",
    "# weekday = bike_df['starttime'].dt.dayofweek\n",
    "# bike_df['weekend'] = weekday.apply(lambda x: 1 if x ==5 or x == 6 else 0)\n",
    "# bike_df['weekend'].sum()\n",
    "\n",
    "\n",
    "def get_time_of_day(time):\n",
    "    if 0 <= time <= 6:\n",
    "        return 'night'\n",
    "    elif 6 < time <= 12:\n",
    "        return 'morning'\n",
    "    elif 12 < time <= 18:\n",
    "        return 'day'\n",
    "    elif 18 < time <= 23:\n",
    "        return 'evening'\n",
    "    else:\n",
    "        return 'else'\n",
    "bike_df['time_of_day'] = bike_df['starttime'].dt.hour.apply(get_time_of_day)\n",
    "a = bike_df[bike_df['time_of_day'] == 'day'].shape[0]\n",
    "b = bike_df[bike_df['time_of_day'] == 'night'].shape[0]\n",
    "print(round(a / b))"
   ]
  }
 ],
 "metadata": {
  "kernelspec": {
   "display_name": "Python 3.9.10 64-bit",
   "language": "python",
   "name": "python3"
  },
  "language_info": {
   "codemirror_mode": {
    "name": "ipython",
    "version": 3
   },
   "file_extension": ".py",
   "mimetype": "text/x-python",
   "name": "python",
   "nbconvert_exporter": "python",
   "pygments_lexer": "ipython3",
   "version": "3.9.10"
  },
  "orig_nbformat": 4,
  "vscode": {
   "interpreter": {
    "hash": "cf92aa13fedf815d5c8dd192b8d835913fde3e8bc926b2a0ad6cc74ef2ba3ca2"
   }
  }
 },
 "nbformat": 4,
 "nbformat_minor": 2
}
