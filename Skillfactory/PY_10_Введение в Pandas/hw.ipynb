{
 "cells": [
  {
   "cell_type": "code",
   "execution_count": 51,
   "metadata": {},
   "outputs": [
    {
     "name": "stdout",
     "output_type": "stream",
     "text": [
      "6\n"
     ]
    }
   ],
   "source": [
    "import pandas as pd\n",
    "student_data = pd.read_csv('data/students_performance.csv', sep=',')\n",
    "# display(student_data.describe(include=['object']))\n",
    "# display(student_data['writing score'][155])\n",
    "\n",
    "# round(student_data[student_data['test preparation course'] == 'completed']['reading score'].mean())\n",
    "# student_data[student_data['math score'] == 0].shape[0]\n",
    "# student_data['parental level of education'].value_counts(normalize=True)\n",
    "# student_data[student_data['lunch'] == 'free/reduced']['math score'].mean()\n",
    "a = student_data[student_data['race/ethnicity'] == 'group C']['writing score'].mean()\n",
    "b = student_data[student_data['race/ethnicity'] == 'group A']['writing score'].median()\n",
    "print(round(abs(b - a)))\n"
   ]
  }
 ],
 "metadata": {
  "kernelspec": {
   "display_name": "Python 3.9.10 64-bit",
   "language": "python",
   "name": "python3"
  },
  "language_info": {
   "codemirror_mode": {
    "name": "ipython",
    "version": 3
   },
   "file_extension": ".py",
   "mimetype": "text/x-python",
   "name": "python",
   "nbconvert_exporter": "python",
   "pygments_lexer": "ipython3",
   "version": "3.9.10"
  },
  "orig_nbformat": 4,
  "vscode": {
   "interpreter": {
    "hash": "cf92aa13fedf815d5c8dd192b8d835913fde3e8bc926b2a0ad6cc74ef2ba3ca2"
   }
  }
 },
 "nbformat": 4,
 "nbformat_minor": 2
}
